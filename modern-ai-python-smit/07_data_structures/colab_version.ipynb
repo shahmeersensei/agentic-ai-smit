{
 "cells": [
  {
   "cell_type": "markdown",
   "id": "f1960332",
   "metadata": {},
   "source": [
    "# Data Structures (Colab)\n",
    "\n",
    "Hands-on notebook exploring lists, tuples, sets, and dictionaries with small practice examples.\n"
   ]
  }
 ],
 "metadata": {
  "language_info": {
   "name": "python"
  }
 },
 "nbformat": 4,
 "nbformat_minor": 5
}
