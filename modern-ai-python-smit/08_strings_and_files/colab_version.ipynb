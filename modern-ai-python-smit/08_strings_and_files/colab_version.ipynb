{
 "cells": [
  {
   "cell_type": "markdown",
   "id": "3f9bde36",
   "metadata": {},
   "source": [
    "# Strings and Files (Colab)\n",
    "\n",
    "Examples for string manipulation and basic file I/O in a notebook-friendly format.\n"
   ]
  }
 ],
 "metadata": {
  "language_info": {
   "name": "python"
  }
 },
 "nbformat": 4,
 "nbformat_minor": 5
}
