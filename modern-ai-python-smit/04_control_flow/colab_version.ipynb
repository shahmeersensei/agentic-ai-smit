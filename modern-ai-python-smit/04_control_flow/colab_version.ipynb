{
 "cells": [
  {
   "cell_type": "markdown",
   "id": "3c9b11e2",
   "metadata": {},
   "source": [
    "# Control Flow (Colab)\n",
    "\n",
    "Notebook with examples of `if`, `elif`, and `else` statements and branching logic exercises.\n"
   ]
  }
 ],
 "metadata": {
  "language_info": {
   "name": "python"
  }
 },
 "nbformat": 4,
 "nbformat_minor": 5
}
