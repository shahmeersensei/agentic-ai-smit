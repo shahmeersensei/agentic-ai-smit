{
 "cells": [
  {
   "cell_type": "markdown",
   "id": "ea7a4d5f",
   "metadata": {},
   "source": [
    "# Modules and Packages (Colab)\n",
    "\n",
    "Notebook to practice creating modules, importing code, and simple packaging concepts.\n"
   ]
  }
 ],
 "metadata": {
  "language_info": {
   "name": "python"
  }
 },
 "nbformat": 4,
 "nbformat_minor": 5
}
