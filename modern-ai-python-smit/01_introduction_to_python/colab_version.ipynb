{
 "cells": [
  {
   "cell_type": "markdown",
   "id": "628a51b2",
   "metadata": {},
   "source": [
    "# Introduction to Python (Colab)\n",
    "\n",
    "Colab version of the introduction examples. Use this notebook to run interactive examples and follow along with lesson notes.\n"
   ]
  }
 ],
 "metadata": {
  "language_info": {
   "name": "python"
  }
 },
 "nbformat": 4,
 "nbformat_minor": 5
}
