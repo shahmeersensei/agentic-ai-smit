{
 "cells": [
  {
   "cell_type": "markdown",
   "id": "de4e6803",
   "metadata": {},
   "source": [
    "# Loops and Iterations (Colab)\n",
    "\n",
    "Interactive examples for `for` and `while` loops, loop control statements, and iteration patterns.\n"
   ]
  }
 ],
 "metadata": {
  "language_info": {
   "name": "python"
  }
 },
 "nbformat": 4,
 "nbformat_minor": 5
}
