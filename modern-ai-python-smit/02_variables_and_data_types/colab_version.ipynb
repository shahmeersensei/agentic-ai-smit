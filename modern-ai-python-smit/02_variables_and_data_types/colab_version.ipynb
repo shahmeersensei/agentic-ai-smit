{
 "cells": [
  {
   "cell_type": "markdown",
   "id": "91329506",
   "metadata": {},
   "source": [
    "# Variables and Data Types (Colab)\n",
    "\n",
    "Notebook for experimenting with variables, types, and simple expressions in an interactive environment.\n"
   ]
  }
 ],
 "metadata": {
  "language_info": {
   "name": "python"
  }
 },
 "nbformat": 4,
 "nbformat_minor": 5
}
