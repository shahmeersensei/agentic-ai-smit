{
 "cells": [
  {
   "cell_type": "markdown",
   "id": "190f6b31",
   "metadata": {},
   "source": [
    "# Operators and Expressions (Colab)\n",
    "\n",
    "Interactive notebook for practicing arithmetic and logical operators and building expression examples.\n"
   ]
  }
 ],
 "metadata": {
  "language_info": {
   "name": "python"
  }
 },
 "nbformat": 4,
 "nbformat_minor": 5
}
