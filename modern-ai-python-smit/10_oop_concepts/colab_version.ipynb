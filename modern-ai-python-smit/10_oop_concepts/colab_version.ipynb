{
 "cells": [
  {
   "cell_type": "markdown",
   "id": "bdc488e8",
   "metadata": {},
   "source": [
    "# OOP Concepts (Colab)\n",
    "\n",
    "Notebook demonstrating basic classes, objects, and simple OOP exercises.\n"
   ]
  }
 ],
 "metadata": {
  "language_info": {
   "name": "python"
  }
 },
 "nbformat": 4,
 "nbformat_minor": 5
}
