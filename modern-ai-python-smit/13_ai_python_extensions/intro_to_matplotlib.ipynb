{
 "cells": [
  {
   "cell_type": "markdown",
   "id": "2389e256",
   "metadata": {},
   "source": [
    "# Intro to Matplotlib\n",
    "\n",
    "Quick introduction to plotting with Matplotlib: basic line plots, labels, and saving figures for reports and visualizations.\n"
   ]
  }
 ],
 "metadata": {
  "language_info": {
   "name": "python"
  }
 },
 "nbformat": 4,
 "nbformat_minor": 5
}
