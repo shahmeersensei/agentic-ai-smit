{
 "cells": [
  {
   "cell_type": "markdown",
   "id": "f1eaac36",
   "metadata": {},
   "source": [
    "# Intro to NumPy\n",
    "\n",
    "Short notebook demonstrating basic NumPy arrays, operations, and common patterns used in AI and data science.\n"
   ]
  }
 ],
 "metadata": {
  "language_info": {
   "name": "python"
  }
 },
 "nbformat": 4,
 "nbformat_minor": 5
}
