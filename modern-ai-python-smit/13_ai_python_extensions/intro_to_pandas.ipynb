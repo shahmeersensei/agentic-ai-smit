{
 "cells": [
  {
   "cell_type": "markdown",
   "id": "624ffe98",
   "metadata": {},
   "source": [
    "# Intro to pandas\n",
    "\n",
    "Notebook with basic pandas examples: dataframes, reading CSV, and simple transformations useful for AI pipelines.\n"
   ]
  }
 ],
 "metadata": {
  "language_info": {
   "name": "python"
  }
 },
 "nbformat": 4,
 "nbformat_minor": 5
}
