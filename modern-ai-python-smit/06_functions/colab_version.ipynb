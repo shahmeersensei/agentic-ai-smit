{
 "cells": [
  {
   "cell_type": "markdown",
   "id": "21fefc77",
   "metadata": {},
   "source": [
    "# Functions (Colab)\n",
    "\n",
    "Notebook for writing, calling, and testing Python functions and simple function-based exercises.\n"
   ]
  }
 ],
 "metadata": {
  "language_info": {
   "name": "python"
  }
 },
 "nbformat": 4,
 "nbformat_minor": 5
}
