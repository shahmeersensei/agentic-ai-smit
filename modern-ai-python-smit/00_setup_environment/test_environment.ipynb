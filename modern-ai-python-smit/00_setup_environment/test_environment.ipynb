{
 "cells": [
  {
   "cell_type": "markdown",
   "id": "f97dc38c",
   "metadata": {},
   "source": [
    "# Test Environment\n",
    "\n",
    "This notebook runs quick checks to confirm Python and core libraries are available. It mirrors `test_environment.py` but is convenient for Colab/cloud testing.\n"
   ]
  }
 ],
 "metadata": {
  "language_info": {
   "name": "python"
  }
 },
 "nbformat": 4,
 "nbformat_minor": 5
}
