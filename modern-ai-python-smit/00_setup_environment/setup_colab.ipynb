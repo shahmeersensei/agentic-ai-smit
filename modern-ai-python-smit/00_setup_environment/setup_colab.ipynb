{
 "cells": [
  {
   "cell_type": "markdown",
   "id": "6c9855e5",
   "metadata": {},
   "source": [
    "# Setup Colab\n",
    "\n",
    "Open this notebook in Google Colab to install and verify packages needed for the course. Use the cells below to install libraries (if necessary) and run environment checks.\n"
   ]
  }
 ],
 "metadata": {
  "language_info": {
   "name": "python"
  }
 },
 "nbformat": 4,
 "nbformat_minor": 5
}
